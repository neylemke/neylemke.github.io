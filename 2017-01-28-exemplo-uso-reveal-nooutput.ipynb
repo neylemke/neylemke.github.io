{
 "cells": [
  {
   "cell_type": "markdown",
   "metadata": {},
   "source": [
    "<div id=\"table-of-contents\">\n",
    "<h2>Table of Contents</h2>\n",
    "<div id=\"text-table-of-contents\">\n",
    "<ul>\n",
    "<li><a href=\"#org7270b11\">Geração Automática de Slides</a></li>\n",
    "</ul>\n",
    "</div>\n",
    "</div>\n",
    "\n",
    "\n",
    "<a id=\"org7270b11\"></a>\n",
    "\n",
    "# Geração Automática de Slides\n",
    "\n",
    "\n",
    "<a id=\"org2f62281\"></a>\n",
    "\n",
    "## Objetivo\n",
    "\n",
    "O meu objetivo inicial vai ser testar se é mais eficiente gerar \n",
    "slides usando o orgmode. \n",
    "\n",
    "\n",
    "<a id=\"org6b9f912\"></a>\n",
    "\n",
    "## Inicialmente vamos preparar o sistema"
   ]
  },
  {
   "cell_type": "code",
   "execution_count": null,
   "metadata": {},
   "outputs": [],
   "source": [
    "git clone https://github.com/ipython-books/cookbook-data.git\n",
    "cd cookbook-data\n",
    "unzip tennis.zip\n"
   ]
  },
  {
   "cell_type": "markdown",
   "metadata": {},
   "source": [
    "<a id=\"org2ae5c4b\"></a>\n",
    "\n",
    "## Vamos testar o uso do python\n",
    "\n",
    "Os primeiros passos são carregar os pacotes:"
   ]
  },
  {
   "cell_type": "code",
   "execution_count": null,
   "metadata": {},
   "outputs": [],
   "source": [
    "import numpy as np\n",
    "import pandas as pd\n",
    "import matplotlib.pyplot as plt\n",
    "from  datetime import *\n",
    "\n",
    "datetime.datetime(2013, 3, 27, 23, 5)\n"
   ]
  },
  {
   "cell_type": "markdown",
   "metadata": {},
   "source": [
    "<a id=\"org30fb93c\"></a>\n",
    "\n",
    "## Datafile\n",
    "\n",
    "Criamos o *datafile* usando os arquivos do item anterior."
   ]
  },
  {
   "cell_type": "code",
   "execution_count": null,
   "metadata": {},
   "outputs": [],
   "source": [
    "player = 'Roger Federer'\n",
    "filename = \"./cookbook-data/data/{name}.csv\".format(name=player.replace(' ', '-')) \n",
    "df = pd.read_csv(filename)\n"
   ]
  },
  {
   "cell_type": "markdown",
   "metadata": {},
   "source": [
    "<a id=\"orgbd5c173\"></a>\n",
    "\n",
    "## Determinamos quem Venceu"
   ]
  },
  {
   "cell_type": "code",
   "execution_count": null,
   "metadata": {},
   "outputs": [],
   "source": [
    "df['win'] = df['winner'] == player\n",
    "df['win'].tail()\n",
    "\n",
    "1174    False\n",
    "1175     True\n",
    "1176     True\n",
    "1177     True\n",
    "1178    False\n",
    "Name: win, dtype: bool\n"
   ]
  },
  {
   "cell_type": "markdown",
   "metadata": {},
   "source": [
    "<a id=\"orge95a866\"></a>\n",
    "\n",
    "## Agora geramos a fração de faltas duplas"
   ]
  },
  {
   "cell_type": "code",
   "execution_count": null,
   "metadata": {},
   "outputs": [],
   "source": [
    "df['dblfaults'] = (df['player1 double faults'] / \n",
    "                   df['player1 total points total'])\n"
   ]
  },
  {
   "cell_type": "markdown",
   "metadata": {},
   "source": [
    "<a id=\"orgefea2a2\"></a>\n",
    "\n",
    "## Podemos gerar um Report mais interessante."
   ]
  },
  {
   "cell_type": "code",
   "execution_count": null,
   "metadata": {},
   "outputs": [],
   "source": [
    "(\"{player} has won {vic:.0f}% of his ATP matches.\").format(\n",
    "    player=player, vic=100*df['win'].mean())"
   ]
  },
  {
   "cell_type": "markdown",
   "metadata": {},
   "source": [
    "Roger Federer has won 82% of his ATP matches."
   ]
  },
  {
   "cell_type": "code",
   "execution_count": null,
   "metadata": {},
   "outputs": [],
   "source": [
    "df['dblfaults'].tail()\n",
    "\n",
    "1174    0.018116\n",
    "1175    0.000000\n",
    "1176    0.000000\n",
    "1177    0.011561\n",
    "1178         NaN\n",
    "Name: dblfaults, dtype: float64\n"
   ]
  },
  {
   "cell_type": "markdown",
   "metadata": {},
   "source": [
    "<a id=\"org4ded04b\"></a>\n",
    "\n",
    "## Agrupamos os dados\n",
    "\n",
    "Inicialmente por tipo de quadra"
   ]
  },
  {
   "cell_type": "code",
   "execution_count": null,
   "metadata": {},
   "outputs": [],
   "source": [
    "df.groupby('surface')['win'].mean()\n",
    "\n",
    "surface\n",
    "Indoor: Carpet    0.736842\n",
    "Indoor: Clay      0.833333\n",
    "Indoor: Hard      0.836283\n",
    "Outdoor: Clay     0.779116\n",
    "Outdoor: Grass    0.871429\n",
    "Outdoor: Hard     0.842324\n",
    "Name: win, dtype: float64\n"
   ]
  },
  {
   "cell_type": "markdown",
   "metadata": {},
   "source": [
    "<a id=\"org96ec475\"></a>\n",
    "\n",
    "## Agrupamos os dados\n",
    "\n",
    "Agora por ano"
   ]
  },
  {
   "cell_type": "code",
   "execution_count": null,
   "metadata": {},
   "outputs": [],
   "source": [
    "gb = df.groupby('year')\n"
   ]
  },
  {
   "cell_type": "markdown",
   "metadata": {},
   "source": [
    "<a id=\"org015936f\"></a>\n",
    "\n",
    "## Convertendo as datas"
   ]
  },
  {
   "cell_type": "code",
   "execution_count": null,
   "metadata": {},
   "outputs": [],
   "source": [
    "df['date']=[datetime.strptime(date, '%d.%m.%Y') for date in df['start date']]"
   ]
  },
  {
   "cell_type": "markdown",
   "metadata": {},
   "source": [
    "A Conversão da base `gb` é mais complicada por que cada elemento\n",
    "é uma base de dados."
   ]
  },
  {
   "cell_type": "code",
   "execution_count": null,
   "metadata": {},
   "outputs": [],
   "source": [
    "dates=[datetime.strptime(date, '%d.%m.%Y') for date in gb['start date'].max()]\n"
   ]
  },
  {
   "cell_type": "markdown",
   "metadata": {},
   "source": [
    "<a id=\"orgb24290f\"></a>\n",
    "\n",
    "## Representação dos Pontos"
   ]
  },
  {
   "cell_type": "code",
   "execution_count": null,
   "metadata": {},
   "outputs": [],
   "source": [
    "%matplotlib inline\n",
    "from pytz import timezone\n",
    "fig=plt.figure(figsize=(12,6),facecolor=\"0.8\")\n",
    "plt.plot_date(dates, gb['dblfaults'].mean(),  '-', lw=3)\n",
    "plt.plot_date(df['start date'], df['dblfaults'], alpha=.25, lw=0)\n",
    "plt.ylabel('Proportion of double faults per match.')\n",
    "plt.xlabel('Year')\n"
   ]
  },
  {
   "cell_type": "markdown",
   "metadata": {},
   "source": [
    "<a id=\"org840a355\"></a>\n",
    "\n",
    "## Detalhes do orgmode\n",
    "\n",
    "Note que o gráfico não é incluído no `exports` apenas o código:"
   ]
  },
  {
   "cell_type": "code",
   "execution_count": null,
   "metadata": {},
   "outputs": [],
   "source": [
    "#+BEGIN_SRC ipython :session pandas :exports code  :file /Users/neylemke/Dropbox/laptop/bloggithub/LessOrMore-master/assets/pandatennis.png :tangle pandas.py"
   ]
  },
  {
   "cell_type": "markdown",
   "metadata": {},
   "source": [
    "A Figura é incluída com um comando em HTML. Isso é uma gambiarra para consertar a\n",
    " gambiarra do `jeckyll` que exige que o path da figura comece com `/assets`\n",
    "e não com `file://<path>`."
   ]
  },
  {
   "cell_type": "code",
   "execution_count": null,
   "metadata": {},
   "outputs": [],
   "source": [
    "#+CAPTION: Federer Results\n",
    "#+NAME:   fig:federer-results\n",
    "#+REVEAL_HTML:  <img src=\"/assets/pandatennis.png\" alt=\"pandatennis.png\" />\n"
   ]
  },
  {
   "cell_type": "markdown",
   "metadata": {},
   "source": [
    "<a id=\"orge79f5b0\"></a>\n",
    "\n",
    "## Melhores Resultados"
   ]
  },
  {
   "cell_type": "code",
   "execution_count": null,
   "metadata": {},
   "outputs": [],
   "source": [
    "gb['start date'].max().tail()\n",
    "\n",
    "year\n",
    "2008    28.07.2008\n",
    "2009    31.08.2009\n",
    "2010    30.08.2010\n",
    "2011    31.10.2011\n",
    "2012    27.08.2012\n",
    "Name: start date, dtype: object"
   ]
  }
 ],
 "metadata": {},
 "nbformat": 4,
 "nbformat_minor": 0
}
